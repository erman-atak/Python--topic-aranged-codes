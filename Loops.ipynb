{
 "metadata": {
  "language_info": {
   "codemirror_mode": {
    "name": "ipython",
    "version": 3
   },
   "file_extension": ".py",
   "mimetype": "text/x-python",
   "name": "python",
   "nbconvert_exporter": "python",
   "pygments_lexer": "ipython3",
   "version": 3
  },
  "orig_nbformat": 2,
  "kernelspec": {
   "name": "python_defaultSpec_1595018949317",
   "display_name": "Python 3.8.3 32-bit"
  }
 },
 "nbformat": 4,
 "nbformat_minor": 2,
 "cells": [
  {
   "cell_type": "code",
   "execution_count": 1,
   "metadata": {
    "tags": []
   },
   "outputs": [
    {
     "output_type": "stream",
     "name": "stdout",
     "text": "Great! your entry is valid:  23\n"
    }
   ],
   "source": [
    "age = input(\"Enter your age: \")\n",
    "\n",
    "while not age.isdigit():\n",
    "    print(\"your entry is not correct\")\n",
    "    age = input(\"Enter your age: \")\n",
    "\n",
    "print(\"Great! your entry is valid: \", age)"
   ]
  },
  {
   "cell_type": "code",
   "execution_count": 11,
   "metadata": {
    "tags": []
   },
   "outputs": [
    {
     "output_type": "stream",
     "name": "stdout",
     "text": "little higher\nlittle higher\nlittle higher\nlittle lower\nlittle lower\nCongratulations\n"
    }
   ],
   "source": [
    "number = 39\n",
    "question = \"Guess a number: \"\n",
    "\n",
    "condition = True\n",
    "\n",
    "while condition :\n",
    "\n",
    "    guess = int(input(question))\n",
    "\n",
    "    if guess > number:\n",
    "        print(\"little lower\")\n",
    "    elif guess < number:\n",
    "        print(\"little higher\")\n",
    "    else :\n",
    "        print(\"Congratulations\")\n",
    "        condition = False\n"
   ]
  },
  {
   "cell_type": "code",
   "execution_count": 12,
   "metadata": {
    "tags": []
   },
   "outputs": [
    {
     "output_type": "stream",
     "name": "stdout",
     "text": "little higher\nlittle lower\nlittle lower\nlittle higher\nCongratulations\n"
    }
   ],
   "source": [
    "number = 39\n",
    "question = \"Guess a number: \"\n",
    "\n",
    "while True :\n",
    "\n",
    "    guess = int(input(question))\n",
    "\n",
    "    if guess > number:\n",
    "        print(\"little lower\")\n",
    "    elif guess < number:\n",
    "        print(\"little higher\")\n",
    "    else :\n",
    "        print(\"Congratulations\")\n",
    "        break"
   ]
  },
  {
   "cell_type": "code",
   "execution_count": 15,
   "metadata": {},
   "outputs": [
    {
     "output_type": "error",
     "ename": "TypeError",
     "evalue": "'>' not supported between instances of 'int' and 'str'",
     "traceback": [
      "\u001b[1;31m---------------------------------------------------------------------------\u001b[0m",
      "\u001b[1;31mTypeError\u001b[0m                                 Traceback (most recent call last)",
      "\u001b[1;32m<ipython-input-15-016258eccf8a>\u001b[0m in \u001b[0;36m<module>\u001b[1;34m\u001b[0m\n\u001b[0;32m      4\u001b[0m \u001b[0mlongest\u001b[0m \u001b[1;33m=\u001b[0m \u001b[1;36m0\u001b[0m\u001b[1;33m\u001b[0m\u001b[1;33m\u001b[0m\u001b[0m\n\u001b[0;32m      5\u001b[0m \u001b[1;32mwhile\u001b[0m \u001b[0mi\u001b[0m \u001b[1;33m<\u001b[0m \u001b[0mlen\u001b[0m\u001b[1;33m(\u001b[0m\u001b[0mword_list\u001b[0m\u001b[1;33m)\u001b[0m\u001b[1;33m:\u001b[0m\u001b[1;33m\u001b[0m\u001b[1;33m\u001b[0m\u001b[0m\n\u001b[1;32m----> 6\u001b[1;33m     \u001b[0mlen\u001b[0m\u001b[1;33m(\u001b[0m\u001b[0mword_list\u001b[0m\u001b[1;33m[\u001b[0m\u001b[0mi\u001b[0m\u001b[1;33m]\u001b[0m\u001b[1;33m)\u001b[0m \u001b[1;33m>\u001b[0m \u001b[0mlongest\u001b[0m\u001b[1;33m\u001b[0m\u001b[1;33m\u001b[0m\u001b[0m\n\u001b[0m\u001b[0;32m      7\u001b[0m     \u001b[0mlongest\u001b[0m \u001b[1;33m=\u001b[0m \u001b[0mword_list\u001b[0m\u001b[1;33m[\u001b[0m\u001b[0mi\u001b[0m\u001b[1;33m]\u001b[0m\u001b[1;33m\u001b[0m\u001b[1;33m\u001b[0m\u001b[0m\n\u001b[0;32m      8\u001b[0m \u001b[0mprint\u001b[0m\u001b[1;33m(\u001b[0m\u001b[0mlongest\u001b[0m\u001b[1;33m)\u001b[0m\u001b[1;33m\u001b[0m\u001b[1;33m\u001b[0m\u001b[0m\n",
      "\u001b[1;31mTypeError\u001b[0m: '>' not supported between instances of 'int' and 'str'"
     ]
    }
   ],
   "source": []
  },
  {
   "cell_type": "code",
   "execution_count": null,
   "metadata": {},
   "outputs": [],
   "source": [
    "sentence = input(\"write a sentence: \")\n",
    "word_list = sentence.split()\n",
    "i = 0\n",
    "longest = 0\n",
    "while i < len(word_list):\n",
    "    if len(word_list[i]) > longest:\n",
    "        longest = len(word_list[i])\n",
    "    i +=1\n",
    "print(sentence, longest, sep='\\n')\n"
   ]
  },
  {
   "cell_type": "code",
   "execution_count": null,
   "metadata": {},
   "outputs": [],
   "source": []
  }
 ]
}