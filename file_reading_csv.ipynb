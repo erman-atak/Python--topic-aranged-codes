{
 "metadata": {
  "language_info": {
   "codemirror_mode": {
    "name": "ipython",
    "version": 3
   },
   "file_extension": ".py",
   "mimetype": "text/x-python",
   "name": "python",
   "nbconvert_exporter": "python",
   "pygments_lexer": "ipython3",
   "version": 3
  },
  "orig_nbformat": 2,
  "kernelspec": {
   "name": "python_defaultSpec_1596099398982",
   "display_name": "Python 3.8.3 32-bit"
  }
 },
 "nbformat": 4,
 "nbformat_minor": 2,
 "cells": [
  {
   "cell_type": "code",
   "execution_count": 1,
   "metadata": {},
   "outputs": [
    {
     "output_type": "execute_result",
     "data": {
      "text/plain": "'c:\\\\Users\\\\John\\\\Desktop\\\\Calrusway\\\\PYTHON\\\\Topiccs'"
     },
     "metadata": {},
     "execution_count": 1
    }
   ],
   "source": [
    "pwd"
   ]
  },
  {
   "cell_type": "code",
   "execution_count": 3,
   "metadata": {
    "tags": []
   },
   "outputs": [
    {
     "output_type": "stream",
     "name": "stdout",
     "text": "no,fruit,amount\n1,Banana,4 lb\n2,Orange,5 lb\n3,Apple,2 lb\n4,Strawberry,6 lb\n5,Cherry,3 lb\n"
    }
   ],
   "source": [
    "with open('fruits.csv', 'r', encoding='utf-8') as file:\n",
    "    print(file.read())"
   ]
  },
  {
   "cell_type": "code",
   "execution_count": 4,
   "metadata": {
    "tags": []
   },
   "outputs": [
    {
     "output_type": "stream",
     "name": "stdout",
     "text": "row, num, first, name, last name, ages\n1, isabella, bold, 22\n2, tom, hujin, 21\n3, kim, nikolevic, 65\n4, guy, docun, 98\n5, sam, polik, 12\n\n\n"
    }
   ],
   "source": [
    "with open('people.csv') as file:\n",
    "    print(file.read())"
   ]
  },
  {
   "cell_type": "code",
   "execution_count": 12,
   "metadata": {
    "tags": []
   },
   "outputs": [
    {
     "output_type": "stream",
     "name": "stdout",
     "text": "['no', 'fruit', 'amount']\n['1', 'Banana', '4 lb']\n['2', 'Orange', '5 lb']\n['3', 'Apple', '2 lb']\n['4', 'Strawberry', '6 lb']\n['5', 'Cherry', '3 lb']\n"
    }
   ],
   "source": [
    "import csv #loads CSV Module\n",
    "with open('fruits.csv', 'r', newline='', encoding='utf-8') as file:\n",
    "    csv_rows = csv.reader(file)\n",
    "\n",
    "    for row in csv_rows:\n",
    "        print(row)"
   ]
  },
  {
   "cell_type": "code",
   "execution_count": 15,
   "metadata": {
    "tags": []
   },
   "outputs": [
    {
     "output_type": "stream",
     "name": "stdout",
     "text": "['row_num', ' first_name', ' last name', ' ages']\n['1', ' isabella', ' bold', '22']\n['2', ' tom', ' hujin', '21']\n['3', ' kim', ' nikolevic', '65']\n['4', ' guy', ' docun', '98']\n['5', ' sam', ' polik', '12']\n"
    }
   ],
   "source": [
    "with open ('people.csv', 'r', newline='', encoding='utf-8') as file:\n",
    "    people_row = csv.reader(file)\n",
    "\n",
    "    for row in people_row:\n",
    "        print(row)"
   ]
  },
  {
   "cell_type": "code",
   "execution_count": 13,
   "metadata": {
    "tags": []
   },
   "outputs": [
    {
     "output_type": "stream",
     "name": "stdout",
     "text": "['row_num, first_name, last name, ages']\n['1, isabella, bold,22']\n['2, tom, hujin,21']\n['3, kim, nikolevic,65']\n['4, guy, docun,98']\n['5, sam, polik,12']\n"
    }
   ],
   "source": [
    "with open ('people.csv', 'r', newline='', encoding='utf-8') as file:\n",
    "    people_row = csv.reader(file, delimiter='-')\n",
    "\n",
    "    for row in people_row:\n",
    "        print(row)"
   ]
  },
  {
   "cell_type": "code",
   "execution_count": 22,
   "metadata": {
    "tags": []
   },
   "outputs": [
    {
     "output_type": "stream",
     "name": "stdout",
     "text": "no-fruit-amount\n1-Banan-4 lb\n2-Orange-5 lb\n3-Apple-2 lb\n4-Strawberry-6 lb\n5-Cherry-3 lb\n"
    }
   ],
   "source": [
    "with open('fruits_dash.csv', 'r') as file:\n",
    "    print(file.read())"
   ]
  },
  {
   "cell_type": "code",
   "execution_count": 35,
   "metadata": {
    "tags": []
   },
   "outputs": [
    {
     "output_type": "stream",
     "name": "stdout",
     "text": "[['no', 'fruit', 'amount'], ['1', 'Banan', '4 lb']]\n\n"
    }
   ],
   "source": [
    "with open('fruits_dash.csv') as file:\n",
    "    rows = csv.reader(file, delimiter='-')\n",
    "    print(list(rows)[:2])\n",
    "    print()\n"
   ]
  },
  {
   "cell_type": "code",
   "execution_count": 38,
   "metadata": {
    "tags": []
   },
   "outputs": [
    {
     "output_type": "stream",
     "name": "stdout",
     "text": "Collecting pandas\n  Downloading pandas-1.1.0-cp38-cp38-win32.whl (8.2 MB)\nCollecting pytz>=2017.2\n  Downloading pytz-2020.1-py2.py3-none-any.whl (510 kB)\nRequirement already satisfied: python-dateutil>=2.7.3 in c:\\users\\john\\appdata\\roaming\\python\\python38\\site-packages (from pandas) (2.8.1)\nCollecting numpy>=1.15.4\n  Downloading numpy-1.19.1-cp38-cp38-win32.whl (10.9 MB)\nRequirement already satisfied: six>=1.5 in c:\\users\\john\\appdata\\roaming\\python\\python38\\site-packages (from python-dateutil>=2.7.3->pandas) (1.15.0)\nInstalling collected packages: pytz, numpy, pandasNote: you may need to restart the kernel to use updated packages.\nSuccessfully installed numpy-1.19.1 pandas-1.1.0 pytz-2020.1\n  WARNING: The script f2py.exe is installed in 'C:\\Users\\John\\AppData\\Local\\Programs\\Python\\Python38-32\\Scripts' which is not on PATH.\n  Consider adding this directory to PATH or, if you prefer to suppress this warning, use --no-warn-script-location.\nWARNING: You are using pip version 20.1.1; however, version 20.2 is available.\nYou should consider upgrading via the 'C:\\Users\\John\\AppData\\Local\\Programs\\Python\\Python38-32\\python.exe -m pip install --upgrade pip' command.\n\n"
    }
   ],
   "source": [
    "pip install pandas"
   ]
  },
  {
   "cell_type": "code",
   "execution_count": 39,
   "metadata": {},
   "outputs": [],
   "source": [
    "import pandas as pd"
   ]
  },
  {
   "cell_type": "code",
   "execution_count": 50,
   "metadata": {
    "tags": []
   },
   "outputs": [
    {
     "output_type": "stream",
     "name": "stdout",
     "text": "fruit amount\nno                   \n1       Banana   4 lb\n2       Orange   5 lb\n3        Apple   2 lb\n4   Strawberry   6 lb\n5       Cherry   3 lb\n"
    }
   ],
   "source": [
    "df = pd.read_csv('fruits.csv', index_col=0)\n",
    "print(df)"
   ]
  },
  {
   "cell_type": "code",
   "execution_count": 53,
   "metadata": {
    "tags": []
   },
   "outputs": [
    {
     "output_type": "stream",
     "name": "stdout",
     "text": "fruit amount\nno                   \n1        Banan   4 lb\n2       Orange   5 lb\n3        Apple   2 lb\n4   Strawberry   6 lb\n5       Cherry   3 lb\n"
    }
   ],
   "source": [
    "df = pd.read_csv('fruits_dash.csv', sep='-', index_col=0)\n",
    "print(df)"
   ]
  }
 ]
}