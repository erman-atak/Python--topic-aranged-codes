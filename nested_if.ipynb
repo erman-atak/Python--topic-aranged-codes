{
 "metadata": {
  "language_info": {
   "codemirror_mode": {
    "name": "ipython",
    "version": 3
   },
   "file_extension": ".py",
   "mimetype": "text/x-python",
   "name": "python",
   "nbconvert_exporter": "python",
   "pygments_lexer": "ipython3",
   "version": 3
  },
  "orig_nbformat": 2,
  "kernelspec": {
   "name": "python_defaultSpec_1595018422748",
   "display_name": "Python 3.8.3 32-bit"
  }
 },
 "nbformat": 4,
 "nbformat_minor": 2,
 "cells": [
  {
   "cell_type": "code",
   "execution_count": 6,
   "metadata": {
    "tags": []
   },
   "outputs": [
    {
     "output_type": "stream",
     "name": "stdout",
     "text": "Your degree is A\n"
    }
   ],
   "source": [
    "score = int(input(\"Please write your score: \"))\n",
    "if score >=90:\n",
    "    if score >= 95:\n",
    "        score_letter = 'A+'\n",
    "    else: score_letter = 'A'\n",
    "\n",
    "elif score >= 80:\n",
    "    if score >= 85:\n",
    "        score_letter = 'B+'\n",
    "    else: score_letter = 'B'\n",
    "\n",
    "else: score_letter = 'B-'\n",
    "\n",
    "print(f\"Your degree is {score_letter}\")\n"
   ]
  },
  {
   "cell_type": "code",
   "execution_count": null,
   "metadata": {},
   "outputs": [],
   "source": []
  }
 ]
}