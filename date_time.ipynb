{
 "metadata": {
  "language_info": {
   "codemirror_mode": {
    "name": "ipython",
    "version": 3
   },
   "file_extension": ".py",
   "mimetype": "text/x-python",
   "name": "python",
   "nbconvert_exporter": "python",
   "pygments_lexer": "ipython3",
   "version": 3
  },
  "orig_nbformat": 2,
  "kernelspec": {
   "name": "python_defaultSpec_1595770723204",
   "display_name": "Python 3.8.3 32-bit"
  }
 },
 "nbformat": 4,
 "nbformat_minor": 2,
 "cells": [
  {
   "cell_type": "code",
   "execution_count": 9,
   "metadata": {
    "tags": []
   },
   "outputs": [
    {
     "output_type": "stream",
     "name": "stdout",
     "text": "Icinde bulundugumuz yil:  2020\nIcinde bulundugumuz ay:  7\nIcinde bulundugumuz gun:  26\n"
    }
   ],
   "source": [
    "from datetime import date\n",
    "\n",
    "t = date.today()\n",
    "\n",
    "print(\"Icinde bulundugumuz yil: \", t.year)\n",
    "print(\"Icinde bulundugumuz ay: \", t.month)\n",
    "print(\"Icinde bulundugumuz gun: \", t.day)"
   ]
  }
 ]
}