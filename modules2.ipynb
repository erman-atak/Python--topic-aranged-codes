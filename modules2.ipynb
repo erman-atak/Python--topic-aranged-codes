{
 "metadata": {
  "language_info": {
   "codemirror_mode": {
    "name": "ipython",
    "version": 3
   },
   "file_extension": ".py",
   "mimetype": "text/x-python",
   "name": "python",
   "nbconvert_exporter": "python",
   "pygments_lexer": "ipython3",
   "version": 3
  },
  "orig_nbformat": 2,
  "kernelspec": {
   "name": "python_defaultSpec_1595435749798",
   "display_name": "Python 3.8.3 32-bit"
  }
 },
 "nbformat": 4,
 "nbformat_minor": 2,
 "cells": [
  {
   "cell_type": "code",
   "execution_count": 10,
   "metadata": {},
   "outputs": [],
   "source": [
    "from upper_package import my_package"
   ]
  },
  {
   "cell_type": "code",
   "execution_count": 11,
   "metadata": {},
   "outputs": [],
   "source": [
    "from upper_package.my_package import my_module_1, my_module_2"
   ]
  },
  {
   "cell_type": "code",
   "execution_count": 12,
   "metadata": {},
   "outputs": [
    {
     "output_type": "execute_result",
     "data": {
      "text/plain": "['__builtins__',\n '__cached__',\n '__doc__',\n '__file__',\n '__loader__',\n '__name__',\n '__package__',\n '__path__',\n '__spec__',\n 'my_module_1',\n 'my_module_2']"
     },
     "metadata": {},
     "execution_count": 12
    }
   ],
   "source": [
    "dir(my_package)"
   ]
  },
  {
   "cell_type": "code",
   "execution_count": 15,
   "metadata": {
    "tags": []
   },
   "outputs": [
    {
     "output_type": "stream",
     "name": "stdout",
     "text": "hello\n"
    }
   ],
   "source": [
    "my_module_1.addition(2,3)\n",
    "my_module_2.hello()"
   ]
  },
  {
   "cell_type": "code",
   "execution_count": null,
   "metadata": {},
   "outputs": [],
   "source": []
  },
  {
   "cell_type": "code",
   "execution_count": 16,
   "metadata": {},
   "outputs": [
    {
     "output_type": "execute_result",
     "data": {
      "text/plain": "ModuleSpec(name='upper_package.my_package', loader=<_frozen_importlib_external.SourceFileLoader object at 0x06D58F28>, origin='C:\\\\Users\\\\John\\\\AppData\\\\Local\\\\Programs\\\\Microsoft VS Code\\\\upper_package\\\\my_package\\\\__init__.py', submodule_search_locations=['C:\\\\Users\\\\John\\\\AppData\\\\Local\\\\Programs\\\\Microsoft VS Code\\\\upper_package\\\\my_package'])"
     },
     "metadata": {},
     "execution_count": 16
    }
   ],
   "source": [
    "my_package.__spec__"
   ]
  },
  {
   "cell_type": "code",
   "execution_count": 17,
   "metadata": {},
   "outputs": [
    {
     "output_type": "execute_result",
     "data": {
      "text/plain": "['__builtins__',\n '__cached__',\n '__doc__',\n '__file__',\n '__loader__',\n '__name__',\n '__package__',\n '__path__',\n '__spec__',\n 'my_package']"
     },
     "metadata": {},
     "execution_count": 17
    }
   ],
   "source": [
    "import upper_package\n",
    "dir(upper_package)"
   ]
  },
  {
   "cell_type": "code",
   "execution_count": 23,
   "metadata": {
    "tags": []
   },
   "outputs": [
    {
     "output_type": "stream",
     "name": "stdout",
     "text": "hello\n"
    },
    {
     "output_type": "execute_result",
     "data": {
      "text/plain": "4.0"
     },
     "metadata": {},
     "execution_count": 23
    }
   ],
   "source": [
    "from upper_package.my_package.my_module_2 import divide, hello\n",
    "\n",
    "hello()\n",
    "divide(8,2)"
   ]
  },
  {
   "cell_type": "code",
   "execution_count": 26,
   "metadata": {
    "tags": []
   },
   "outputs": [
    {
     "output_type": "stream",
     "name": "stdout",
     "text": "\nThis is module 2. Welcome!\n\n"
    },
    {
     "output_type": "execute_result",
     "data": {
      "text/plain": "'\\nThis is module 1. Welcome!\\n'"
     },
     "metadata": {},
     "execution_count": 26
    }
   ],
   "source": [
    "print(my_module_2.__doc__)\n",
    "my_module_1.__doc__"
   ]
  },
  {
   "cell_type": "code",
   "execution_count": 28,
   "metadata": {
    "tags": []
   },
   "outputs": [
    {
     "output_type": "stream",
     "name": "stdout",
     "text": "This module provides access to the mathematical functions\ndefined by the C standard.\n"
    }
   ],
   "source": [
    "import math\n",
    "print(math.__doc__)"
   ]
  }
 ]
}