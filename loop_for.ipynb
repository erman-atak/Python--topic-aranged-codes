{
 "metadata": {
  "language_info": {
   "codemirror_mode": {
    "name": "ipython",
    "version": 3
   },
   "file_extension": ".py",
   "mimetype": "text/x-python",
   "name": "python",
   "nbconvert_exporter": "python",
   "pygments_lexer": "ipython3",
   "version": 3
  },
  "orig_nbformat": 2,
  "kernelspec": {
   "name": "python_defaultSpec_1595021993998",
   "display_name": "Python 3.8.3 32-bit"
  }
 },
 "nbformat": 4,
 "nbformat_minor": 2,
 "cells": [
  {
   "cell_type": "code",
   "execution_count": 4,
   "metadata": {
    "tags": []
   },
   "outputs": [
    {
     "output_type": "stream",
     "name": "stdout",
     "text": "[1, 2, 3, 4, 5]\n"
    }
   ],
   "source": [
    "numbers = []\n",
    "for i in range(1,6):\n",
    "    numbers.append(i)\n",
    "print(numbers)"
   ]
  },
  {
   "cell_type": "code",
   "execution_count": 6,
   "metadata": {
    "tags": []
   },
   "outputs": [
    {
     "output_type": "stream",
     "name": "stdout",
     "text": "c l a r u s w a y"
    }
   ],
   "source": [
    "word = \"clarusway\"\n",
    "\n",
    "for i in word:\n",
    "    print (i, end=(' '))"
   ]
  },
  {
   "cell_type": "code",
   "execution_count": 14,
   "metadata": {
    "tags": []
   },
   "outputs": [
    {
     "output_type": "stream",
     "name": "stdout",
     "text": "name\nsurname\nage\ndaniel\nsmith\n34\nname daniel\nsurname smith\nage 34\n"
    }
   ],
   "source": [
    "user = {\n",
    "    \"name\": \"daniel\",\n",
    "    \"surname\": \"smith\",\n",
    "    \"age\": \"34\"\n",
    "}\n",
    "\n",
    "for attribute in user:\n",
    "    print(attribute)\n",
    "\n",
    "for i in user.values():\n",
    "    print(i)\n",
    "\n",
    "for key, value in user.items():\n",
    "    print(key, value)"
   ]
  },
  {
   "cell_type": "code",
   "execution_count": 15,
   "metadata": {
    "tags": []
   },
   "outputs": [
    {
     "output_type": "stream",
     "name": "stdout",
     "text": "max : ruben\nsam : tom\n"
    }
   ],
   "source": [
    "tuple_list = (['max', 'ruben'], ['sam', 'tom'])\n",
    "\n",
    "for i, k in tuple_list:\n",
    "    print(i, ':', k)"
   ]
  },
  {
   "cell_type": "code",
   "execution_count": 16,
   "metadata": {
    "tags": []
   },
   "outputs": [
    {
     "output_type": "stream",
     "name": "stdout",
     "text": "10 8 6 4\n"
    }
   ],
   "source": [
    "print(*range(10,3,-2))"
   ]
  },
  {
   "cell_type": "code",
   "execution_count": 23,
   "metadata": {
    "tags": []
   },
   "outputs": [
    {
     "output_type": "stream",
     "name": "stdout",
     "text": "a 1\nb 2\nc 3\nd 4\n('a', 1) ('b', 2) ('c', 3) ('d', 4)\n{'a': 1, 'b': 2, 'c': 3, 'd': 4}\n[(1, 'a'), (2, 'b'), (3, 'c'), (4, 'd')]\n"
    }
   ],
   "source": [
    "letters = ['a', 'b', 'c', 'd', 'e']\n",
    "numbers = [1,2,3,4]\n",
    "\n",
    "for i, k in zip(letters, numbers):\n",
    "    print(i,k)\n",
    "\n",
    "print(*zip(letters,numbers))\n",
    "print(dict(zip(letters,numbers)))\n",
    "print(list(zip(numbers,letters)))"
   ]
  },
  {
   "cell_type": "code",
   "execution_count": 27,
   "metadata": {
    "tags": []
   },
   "outputs": [
    {
     "output_type": "stream",
     "name": "stdout",
     "text": "evens : [0, 2, 4, 6, 8]\nodds : [1, 3, 5, 7, 9]\n"
    }
   ],
   "source": [
    "numbers = list(range(10))\n",
    "evens = []\n",
    "odds = []\n",
    "\n",
    "for i in numbers:\n",
    "    if i % 2 == 0:\n",
    "        evens.append(i)\n",
    "    else: odds.append(i)\n",
    "print(\"evens :\", evens)\n",
    "print(\"odds :\", odds)\n"
   ]
  },
  {
   "cell_type": "code",
   "execution_count": 28,
   "metadata": {
    "tags": []
   },
   "outputs": [
    {
     "output_type": "stream",
     "name": "stdout",
     "text": "The number of even numbers: 3\nThe number of odds numbers: 4\n"
    }
   ],
   "source": [
    "numbers = [11,2,24,61,48,33,3]\n",
    "even_nr= 0\n",
    "odd_nr = 0\n",
    "for i in numbers:\n",
    "    if i%2 == 0:\n",
    "        even_nr +=1\n",
    "    else: odd_nr +=1\n",
    "print(\"The number of even numbers:\", even_nr)\n",
    "print(\"The number of odds numbers:\", odd_nr)\n"
   ]
  },
  {
   "cell_type": "code",
   "execution_count": null,
   "metadata": {},
   "outputs": [],
   "source": []
  }
 ]
}