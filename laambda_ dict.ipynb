{
 "metadata": {
  "language_info": {
   "codemirror_mode": {
    "name": "ipython",
    "version": 3
   },
   "file_extension": ".py",
   "mimetype": "text/x-python",
   "name": "python",
   "nbconvert_exporter": "python",
   "pygments_lexer": "ipython3",
   "version": 3
  },
  "orig_nbformat": 2,
  "kernelspec": {
   "name": "python_defaultSpec_1595769196653",
   "display_name": "Python 3.8.3 32-bit"
  }
 },
 "nbformat": 4,
 "nbformat_minor": 2,
 "cells": [
  {
   "cell_type": "code",
   "execution_count": 2,
   "metadata": {},
   "outputs": [],
   "source": [
    "plusminus = {\"plus\": lambda x, y: x+y,\n",
    "             \"minus\": lambda x, y: x-y\n",
    "             }"
   ]
  },
  {
   "cell_type": "code",
   "execution_count": 5,
   "metadata": {},
   "outputs": [
    {
     "output_type": "execute_result",
     "data": {
      "text/plain": "7"
     },
     "metadata": {},
     "execution_count": 5
    }
   ],
   "source": [
    "plusminus[\"plus\"](3,4)"
   ]
  },
  {
   "cell_type": "code",
   "execution_count": 4,
   "metadata": {},
   "outputs": [
    {
     "output_type": "execute_result",
     "data": {
      "text/plain": "6"
     },
     "metadata": {},
     "execution_count": 4
    }
   ],
   "source": [
    "plusminus['minus'](9,3)"
   ]
  },
  {
   "cell_type": "code",
   "execution_count": 14,
   "metadata": {},
   "outputs": [
    {
     "output_type": "execute_result",
     "data": {
      "text/plain": "15"
     },
     "metadata": {},
     "execution_count": 14
    }
   ],
   "source": [
    "calculator = {\"+\" : (lambda x,y:x+y), \"-\" : (lambda x,y: x-y), \"*\" : (lambda x,y:x*y)}\n",
    "\n",
    "calculator[\"*\"](3,5)"
   ]
  },
  {
   "cell_type": "code",
   "execution_count": 17,
   "metadata": {
    "tags": []
   },
   "outputs": [
    {
     "output_type": "stream",
     "name": "stdout",
     "text": "1 : odd\n2 : even\n3 : odd\n4 : even\n5 : odd\n"
    }
   ],
   "source": [
    "for j in [1,2,3,4,5]:\n",
    "    print(j, \":\", (lambda x: \"even\" if x%2==0 else \"odd\")(j))"
   ]
  }
 ]
}