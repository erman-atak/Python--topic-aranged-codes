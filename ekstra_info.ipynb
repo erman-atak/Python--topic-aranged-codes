{
 "metadata": {
  "language_info": {
   "codemirror_mode": {
    "name": "ipython",
    "version": 3
   },
   "file_extension": ".py",
   "mimetype": "text/x-python",
   "name": "python",
   "nbconvert_exporter": "python",
   "pygments_lexer": "ipython3",
   "version": 3
  },
  "orig_nbformat": 2,
  "kernelspec": {
   "name": "python_defaultSpec_1596568200751",
   "display_name": "Python 3.8.3 32-bit"
  }
 },
 "nbformat": 4,
 "nbformat_minor": 2,
 "cells": [
  {
   "cell_type": "code",
   "execution_count": 10,
   "metadata": {},
   "outputs": [
    {
     "output_type": "execute_result",
     "data": {
      "text/plain": "[('f', 1), ('b', 2), ('c', 3), ('e', 4)]"
     },
     "metadata": {},
     "execution_count": 10
    }
   ],
   "source": [
    "xx = {'e':4, 'b':2, 'c':3, 'f':1}\n",
    "sorted(xx.items(), key=lambda x: x[1])"
   ]
  },
  {
   "cell_type": "code",
   "execution_count": 15,
   "metadata": {},
   "outputs": [
    {
     "output_type": "execute_result",
     "data": {
      "text/plain": "[1, 4, 9, 16, 25]"
     },
     "metadata": {},
     "execution_count": 15
    }
   ],
   "source": [
    "my_list = [1,2,3,4,5]\n",
    "\n",
    "a =(x**2 for x in my_list)\n",
    "list(a)"
   ]
  },
  {
   "cell_type": "code",
   "execution_count": 16,
   "metadata": {},
   "outputs": [
    {
     "output_type": "execute_result",
     "data": {
      "text/plain": "0"
     },
     "metadata": {},
     "execution_count": 16
    }
   ],
   "source": [
    "sum(a)"
   ]
  },
  {
   "cell_type": "code",
   "execution_count": 17,
   "metadata": {},
   "outputs": [
    {
     "output_type": "execute_result",
     "data": {
      "text/plain": "55"
     },
     "metadata": {},
     "execution_count": 17
    }
   ],
   "source": [
    "sum(x**2 for x in my_list)"
   ]
  },
  {
   "cell_type": "code",
   "execution_count": 18,
   "metadata": {},
   "outputs": [
    {
     "output_type": "execute_result",
     "data": {
      "text/plain": "25"
     },
     "metadata": {},
     "execution_count": 18
    }
   ],
   "source": [
    "max(x**2 for x in my_list)"
   ]
  },
  {
   "cell_type": "code",
   "execution_count": 19,
   "metadata": {},
   "outputs": [
    {
     "output_type": "execute_result",
     "data": {
      "text/plain": "[1, 2, 3, 'a']"
     },
     "metadata": {},
     "execution_count": 19
    }
   ],
   "source": [
    "old = [1,2,3]\n",
    "new = old\n",
    "\n",
    "new.append('a')\n",
    "new"
   ]
  },
  {
   "cell_type": "code",
   "execution_count": 20,
   "metadata": {},
   "outputs": [
    {
     "output_type": "execute_result",
     "data": {
      "text/plain": "[1, 2, 3, 'a']"
     },
     "metadata": {},
     "execution_count": 20
    }
   ],
   "source": [
    "old"
   ]
  },
  {
   "cell_type": "code",
   "execution_count": 22,
   "metadata": {},
   "outputs": [
    {
     "output_type": "execute_result",
     "data": {
      "text/plain": "['cat', 0, 5, 6.7, 'bunny']"
     },
     "metadata": {},
     "execution_count": 22
    }
   ],
   "source": [
    "my_old = ['cat', 0, 5, 6.7]\n",
    "my_new = my_old.copy()\n",
    "my_new.append('bunny')\n",
    "my_new"
   ]
  },
  {
   "cell_type": "code",
   "execution_count": 23,
   "metadata": {},
   "outputs": [
    {
     "output_type": "execute_result",
     "data": {
      "text/plain": "['cat', 0, 5, 6.7]"
     },
     "metadata": {},
     "execution_count": 23
    }
   ],
   "source": [
    "my_old #yapilan degisiklikten etkilenmedi"
   ]
  },
  {
   "cell_type": "code",
   "execution_count": 25,
   "metadata": {},
   "outputs": [
    {
     "output_type": "execute_result",
     "data": {
      "text/plain": "['cat', 0, 5, 6.7, 'dana']"
     },
     "metadata": {},
     "execution_count": 25
    }
   ],
   "source": [
    "my_new = my_old[:]\n",
    "my_new.append('dana')\n",
    "my_new"
   ]
  },
  {
   "cell_type": "code",
   "execution_count": 26,
   "metadata": {},
   "outputs": [
    {
     "output_type": "execute_result",
     "data": {
      "text/plain": "['cat', 0, 5, 6.7]"
     },
     "metadata": {},
     "execution_count": 26
    }
   ],
   "source": [
    "my_old"
   ]
  },
  {
   "cell_type": "code",
   "execution_count": 28,
   "metadata": {},
   "outputs": [],
   "source": [
    "languages = ['french', 'ingilizce', 'dutch']\n",
    "languages2 = ['spanish', 'arabic']"
   ]
  },
  {
   "cell_type": "code",
   "execution_count": 29,
   "metadata": {},
   "outputs": [
    {
     "output_type": "execute_result",
     "data": {
      "text/plain": "['french', 'ingilizce', 'dutch', 'spanish', 'arabic']"
     },
     "metadata": {},
     "execution_count": 29
    }
   ],
   "source": [
    "languages + languages2"
   ]
  },
  {
   "cell_type": "code",
   "execution_count": 32,
   "metadata": {},
   "outputs": [
    {
     "output_type": "execute_result",
     "data": {
      "text/plain": "['french',\n 'ingilizce',\n 'dutch',\n 'spanish',\n 'arabic',\n 'spanish',\n 'arabic',\n 'spanish',\n 'arabic']"
     },
     "metadata": {},
     "execution_count": 32
    }
   ],
   "source": [
    "languages.extend(languages2)\n",
    "languages"
   ]
  },
  {
   "cell_type": "code",
   "execution_count": 33,
   "metadata": {},
   "outputs": [],
   "source": [
    "lang_tuple = ('russian', 'german')\n",
    "lang_set = {'japanish', 'chinese'}"
   ]
  },
  {
   "cell_type": "code",
   "execution_count": 35,
   "metadata": {},
   "outputs": [
    {
     "output_type": "execute_result",
     "data": {
      "text/plain": "['french',\n 'ingilizce',\n 'dutch',\n 'spanish',\n 'arabic',\n 'spanish',\n 'arabic',\n 'spanish',\n 'arabic',\n 'russian',\n 'german',\n 'russian',\n 'german']"
     },
     "metadata": {},
     "execution_count": 35
    }
   ],
   "source": [
    "languages.extend(lang_tuple)\n",
    "languages"
   ]
  },
  {
   "cell_type": "code",
   "execution_count": 36,
   "metadata": {},
   "outputs": [
    {
     "output_type": "execute_result",
     "data": {
      "text/plain": "['french',\n 'ingilizce',\n 'dutch',\n 'spanish',\n 'arabic',\n 'spanish',\n 'arabic',\n 'spanish',\n 'arabic',\n 'russian',\n 'german',\n 'russian',\n 'german',\n 'japanish',\n 'chinese']"
     },
     "metadata": {},
     "execution_count": 36
    }
   ],
   "source": [
    "languages.extend(lang_set)\n",
    "languages"
   ]
  },
  {
   "cell_type": "code",
   "execution_count": 39,
   "metadata": {},
   "outputs": [
    {
     "output_type": "execute_result",
     "data": {
      "text/plain": "['python', 'java', 'c++', 'c']"
     },
     "metadata": {},
     "execution_count": 39
    }
   ],
   "source": [
    "languages = ['python', 'java', 'c++', 'fransiz', 'c']\n",
    "new_value = languages.pop(3)\n",
    "new_value\n",
    "languages"
   ]
  },
  {
   "cell_type": "code",
   "execution_count": 40,
   "metadata": {},
   "outputs": [
    {
     "output_type": "execute_result",
     "data": {
      "text/plain": "'c'"
     },
     "metadata": {},
     "execution_count": 40
    }
   ],
   "source": [
    "languages.pop()"
   ]
  },
  {
   "cell_type": "code",
   "execution_count": 41,
   "metadata": {},
   "outputs": [
    {
     "output_type": "execute_result",
     "data": {
      "text/plain": "'python'"
     },
     "metadata": {},
     "execution_count": 41
    }
   ],
   "source": [
    "languages.pop(-3)"
   ]
  },
  {
   "cell_type": "code",
   "execution_count": 42,
   "metadata": {},
   "outputs": [],
   "source": [
    "import os, glob"
   ]
  },
  {
   "cell_type": "code",
   "execution_count": 43,
   "metadata": {
    "tags": []
   },
   "outputs": [
    {
     "output_type": "stream",
     "name": "stdout",
     "text": "Untitled.ipynb\nUntitled1.ipynb\nUntitled10.ipynb\nUntitled11.ipynb\nUntitled12.ipynb\nUntitled13.ipynb\nUntitled14.ipynb\nUntitled15.ipynb\nUntitled16.ipynb\nUntitled17.ipynb\nUntitled18.ipynb\nUntitled19.ipynb\nUntitled2.ipynb\nUntitled3.ipynb\nUntitled4.ipynb\nUntitled5.ipynb\nUntitled6.ipynb\nUntitled7.ipynb\nUntitled8.ipynb\nUntitled9.ipynb\n"
    }
   ],
   "source": [
    "os.chdir('C:/users/john/')\n",
    "for file in glob.glob('*.ipynb'):\n",
    "    print(file)"
   ]
  }
 ]
}